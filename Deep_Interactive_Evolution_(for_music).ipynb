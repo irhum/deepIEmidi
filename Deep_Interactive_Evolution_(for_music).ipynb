{
  "nbformat": 4,
  "nbformat_minor": 0,
  "metadata": {
    "colab": {
      "name": "Deep Interactive Evolution (for music).ipynb",
      "version": "0.3.2",
      "views": {},
      "default_view": {},
      "provenance": []
    },
    "kernelspec": {
      "name": "python2",
      "display_name": "Python 2"
    }
  },
  "cells": [
    {
      "metadata": {
        "id": "54-G9Pg4udN7",
        "colab_type": "text"
      },
      "cell_type": "markdown",
      "source": [
        "# Deep Interactive Evolution (for music)\n",
        "\n",
        "This is an unofficial implementation of the algorithm found in the paper \"Deep Interactive Evolution\" (https://arxiv.org/abs/1801.08230). In contrast to the original paper, this implementation uses a VAE (instead of a GAN) trained on 2-bar music (instead of images), to evolve a 2-bar sample the user prefers. "
      ]
    },
    {
      "metadata": {
        "id": "as9jtKN899Cm",
        "colab_type": "text"
      },
      "cell_type": "markdown",
      "source": [
        "# Setup\n",
        "To demonstrate the generality of the algorithm to any latent variable model, we use a pretrained VAE model by Google Magenta, MusicVAE (found here: https://colab.research.google.com/notebook#fileId=/v2/external/notebooks/magenta/music_vae/music_vae.ipynb).\n",
        "\n",
        "Installs and imports all packages for the Magenta MusicVAE, alongside loading the basic 2-bar loop model (a bidirectional LSTM encoder based VAE)."
      ]
    },
    {
      "metadata": {
        "id": "Q6LJkEOC1yJH",
        "colab_type": "code",
        "colab": {
          "autoexec": {
            "startup": false,
            "wait_interval": 0
          },
          "output_extras": [
            {
              "item_id": 4
            }
          ],
          "base_uri": "https://localhost:8080/",
          "height": 85
        },
        "outputId": "32058663-69ff-4a3f-c0c1-5d6f144cbc6a",
        "executionInfo": {
          "status": "ok",
          "timestamp": 1519562423916,
          "user_tz": -360,
          "elapsed": 126219,
          "user": {
            "displayName": "Irhum Shafkat",
            "photoUrl": "//lh5.googleusercontent.com/-6DKbI6-nmKM/AAAAAAAAAAI/AAAAAAAAm_k/ptdeeuuvL5g/s50-c-k-no/photo.jpg",
            "userId": "100639505087113476513"
          }
        }
      },
      "cell_type": "code",
      "source": [
        "import glob\n",
        "\n",
        "print'Copying checkpoints and example MIDI from GCS. This may take a few minutes...'\n",
        "!gsutil -q -m cp -R gs://download.magenta.tensorflow.org/models/music_vae/colab/* /content/\n",
        "\n",
        "print 'Installing dependencies...'\n",
        "!apt-get update -qq && apt-get install -qq libfluidsynth1 fluid-soundfont-gm build-essential libasound2-dev libjack-dev\n",
        "!pip install -qU pyfluidsynth pretty_midi\n",
        "\n",
        "if glob.glob('/content/magenta*.whl'):\n",
        "  !pip install -qU /content/magenta*.whl\n",
        "else:\n",
        "  !pip install -qU magenta\n",
        "\n",
        "# Hack to allow python to pick up the newly-installed fluidsynth lib.\n",
        "import ctypes.util\n",
        "def proxy_find_library(lib):\n",
        "  if lib == 'fluidsynth':\n",
        "    return 'libfluidsynth.so.1'\n",
        "  else:\n",
        "    return ctypes.util.find_library(lib)\n",
        "\n",
        "ctypes.util.find_library = proxy_find_library\n",
        "\n",
        "\n",
        "print 'Importing libraries and defining some helper functions...'\n",
        "from google.colab import files\n",
        "import magenta.music as mm\n",
        "from magenta.music.sequences_lib import concatenate_sequences\n",
        "from magenta.models.music_vae import configs\n",
        "from magenta.models.music_vae.trained_model import TrainedModel\n",
        "import numpy as np\n",
        "import os\n",
        "import tensorflow as tf\n",
        "\n",
        "\n",
        "def play(note_sequence):\n",
        "  mm.play_sequence(note_sequence, synth=mm.fluidsynth)\n",
        "  \n",
        "def slerp(p0, p1, t):\n",
        "  \"\"\"Spherical linear interpolation.\"\"\"\n",
        "  omega = np.arccos(np.dot(np.squeeze(p0/np.linalg.norm(p0)), np.squeeze(p1/np.linalg.norm(p1))))\n",
        "  so = np.sin(omega)\n",
        "  return np.sin((1.0-t)*omega) / so * p0 + np.sin(t*omega)/so * p1\n",
        "\n",
        "def interpolate(model, start_seq, end_seq, num_steps, max_length=32,\n",
        "                assert_same_length=True, temperature=0.5, \n",
        "                individual_duration=4.0):\n",
        "  \"\"\"Interpolates between a start and end sequence.\"\"\"\n",
        "  _, mu, _ = model.encode([start_seq, end_seq], assert_same_length)\n",
        "  z = np.array([slerp(mu[0], mu[1], t) for t in np.linspace(0, 1, num_steps)])\n",
        "  note_sequences = model.decode(\n",
        "      length=max_length,\n",
        "      z=z,\n",
        "      temperature=temperature)\n",
        "\n",
        "  print 'Start Seq Reconstruction'\n",
        "  play(note_sequences[0])\n",
        "  print 'End Seq Reconstruction'\n",
        "  play(note_sequences[-1])\n",
        "  print 'Mean Sequence'\n",
        "  play(note_sequences[num_steps // 2])\n",
        "  print 'Start -> End Interpolation'\n",
        "  interp_seq = concatenate_sequences(note_sequences, [individual_duration] * len(note_sequences))\n",
        "  play(interp_seq)\n",
        "  mm.plot_sequence(interp_seq)\n",
        "  return interp_seq if num_steps > 3 else note_sequences[num_steps // 2]\n",
        "\n",
        "def download(note_sequence, filename):\n",
        "  mm.sequence_proto_to_midi_file(note_sequence, filename)\n",
        "  files.download(filename)\n",
        "\n",
        "print 'Done'\n",
        "\n",
        "# Load the pre-trained model.\n",
        "mel_2bar_config = configs.CONFIG_MAP['cat-mel_2bar_big']\n",
        "mel_2bar = TrainedModel(mel_2bar_config, batch_size=4, checkpoint_dir_or_path='/content/checkpoints/mel_2bar_big.ckpt')"
      ],
      "execution_count": 19,
      "outputs": [
        {
          "output_type": "stream",
          "text": [
            "Copying checkpoints and example MIDI from GCS. This may take a few minutes...\n",
            "Installing dependencies...\n",
            "Importing libraries and defining some helper functions...\n",
            "Done\n"
          ],
          "name": "stdout"
        }
      ]
    },
    {
      "metadata": {
        "id": "HHV0887fh6Lf",
        "colab_type": "code",
        "colab": {
          "autoexec": {
            "startup": false,
            "wait_interval": 0
          },
          "output_extras": [
            {
              "item_id": 1
            }
          ],
          "base_uri": "https://localhost:8080/",
          "height": 34
        },
        "outputId": "cda797e8-7b1f-4317-d39f-11ec569a4ccd",
        "executionInfo": {
          "status": "ok",
          "timestamp": 1519564044280,
          "user_tz": -360,
          "elapsed": 880,
          "user": {
            "displayName": "Irhum Shafkat",
            "photoUrl": "//lh5.googleusercontent.com/-6DKbI6-nmKM/AAAAAAAAAAI/AAAAAAAAm_k/ptdeeuuvL5g/s50-c-k-no/photo.jpg",
            "userId": "100639505087113476513"
          }
        }
      },
      "cell_type": "code",
      "source": [
        "rangek = 10\n",
        "z_length = 512\n",
        "p = 0.5\n",
        "foreign = 2\n",
        "model = mel2bar\n",
        "np.random.seed(0)\n",
        "\n",
        "z = np.random.randn(rangek, z_length)\n",
        "m, n = rangek, z_length\n",
        "\n",
        "print 'Evolution hyperparamter initialization and model definiton complete'"
      ],
      "execution_count": 56,
      "outputs": [
        {
          "output_type": "stream",
          "text": [
            "Evolution hyperparamter initialization complete\n"
          ],
          "name": "stdout"
        }
      ]
    },
    {
      "metadata": {
        "id": "KkwmYjyY-0yC",
        "colab_type": "text"
      },
      "cell_type": "markdown",
      "source": [
        "Some helper functions for the evolution process, as outlined in algorithm 2 of the paper\n"
      ]
    },
    {
      "metadata": {
        "id": "05egthvZ-xyW",
        "colab_type": "code",
        "colab": {
          "autoexec": {
            "startup": false,
            "wait_interval": 0
          }
        }
      },
      "cell_type": "code",
      "source": [
        "def uniform(population):\n",
        "    pop_len = len(population)\n",
        "    a = population[np.random.randint(0, pop_len)]\n",
        "    b = population[np.random.randint(0, pop_len)]\n",
        "    mask = np.random.binomial(1, 0.5, z_length)\n",
        "    return mask*a + (1-mask)*b\n",
        "\n",
        "def mutate(individual, std):\n",
        "    mutate_cond = np.random.binomial(1, p, 1)\n",
        "    noise = std*np.random.randn(1, z_length)\n",
        "    return individual + mutate_cond * noise\n",
        "\n",
        "def evolve(z, indices, mutate_rate, shuffle=True):\n",
        "    selections = z[indices]\n",
        "    mutate_var = mutate_rate\n",
        "\n",
        "    diff = m - len(selections)\n",
        "    x = np.max([0, diff])\n",
        "    cross = np.array([mutate(uniform(selections), mutate_var) for i in range(x - foreign)]).squeeze(axis=1)\n",
        "\n",
        "    x = np.min((foreign, diff))\n",
        "    new = np.random.randn(x, z_length)\n",
        "\n",
        "    selections = np.array([mutate(selection, mutate_var) for selection in selections]).squeeze(axis=1)\n",
        "\n",
        "    z = np.vstack((selections, cross, new))\n",
        "    \n",
        "    # if not shuffle, the first n(selected) samples are mutated selected samples, \n",
        "    # the last n(foreign) samples are foreign samples, and all samples inbetween are crossovers\n",
        "    if shuffle:\n",
        "        z = np.random.shuffle(z) \n",
        "    \n",
        "    return z\n",
        "    "
      ],
      "execution_count": 0,
      "outputs": []
    },
    {
      "metadata": {
        "id": "dSD2u3fey_O1",
        "colab_type": "text"
      },
      "cell_type": "markdown",
      "source": [
        "#### Some of the samples I obtained:\n",
        "\n",
        "Start: https://github.com/irhumshafkat/deepIEmidi/blob/master/start.wav\n",
        "\n",
        "8 generations later: https://github.com/irhumshafkat/deepIEmidi/blob/master/8thgen.wav"
      ]
    },
    {
      "metadata": {
        "id": "x4K6ywuAr7MD",
        "colab_type": "text"
      },
      "cell_type": "markdown",
      "source": [
        "Colaboratory does not have interactive features, so to simulate the user selection process, keep running the next two cells in sequence."
      ]
    },
    {
      "metadata": {
        "id": "tapRu9u0lKvb",
        "colab_type": "code",
        "colab": {
          "autoexec": {
            "startup": false,
            "wait_interval": 0
          },
          "output_extras": [
            {
              "item_id": 1
            },
            {
              "item_id": 2
            },
            {
              "item_id": 3
            },
            {
              "item_id": 4
            },
            {
              "item_id": 5
            },
            {
              "item_id": 6
            },
            {
              "item_id": 7
            },
            {
              "item_id": 8
            },
            {
              "item_id": 9
            },
            {
              "item_id": 10
            },
            {
              "item_id": 11
            },
            {
              "item_id": 12
            },
            {
              "item_id": 13
            },
            {
              "item_id": 14
            },
            {
              "item_id": 15
            },
            {
              "item_id": 16
            },
            {
              "item_id": 17
            },
            {
              "item_id": 18
            },
            {
              "item_id": 19
            },
            {
              "item_id": 20
            }
          ],
          "base_uri": "https://localhost:8080/",
          "height": 564
        },
        "outputId": "a02fd500-f31d-4593-d051-25b219a3fd40",
        "executionInfo": {
          "status": "ok",
          "timestamp": 1519567335166,
          "user_tz": -360,
          "elapsed": 31222,
          "user": {
            "displayName": "Irhum Shafkat",
            "photoUrl": "//lh5.googleusercontent.com/-6DKbI6-nmKM/AAAAAAAAAAI/AAAAAAAAm_k/ptdeeuuvL5g/s50-c-k-no/photo.jpg",
            "userId": "100639505087113476513"
          }
        }
      },
      "cell_type": "code",
      "source": [
        "note_sequences = model.decode(\n",
        "      length=32,\n",
        "      z=z,\n",
        "      temperature=0.8)\n",
        "\n",
        "print 'Start Seq Reconstruction'\n",
        "for i in range(rangek):\n",
        "  print i \n",
        "  play(note_sequences[i])"
      ],
      "execution_count": 70,
      "outputs": [
        {
          "output_type": "stream",
          "text": [
            "Start Seq Reconstruction\n",
            "0\n"
          ],
          "name": "stdout"
        },
        {
          "output_type": "display_data",
          "data": {
            "text/plain": [
              "<IPython.core.display.HTML object>"
            ],
            "text/html": [
              "<div id=\"id_271\"> </div>"
            ]
          },
          "metadata": {
            "tags": []
          }
        },
        {
          "output_type": "stream",
          "text": [
            "1\n"
          ],
          "name": "stdout"
        },
        {
          "output_type": "display_data",
          "data": {
            "text/plain": [
              "<IPython.core.display.HTML object>"
            ],
            "text/html": [
              "<div id=\"id_272\"> </div>"
            ]
          },
          "metadata": {
            "tags": []
          }
        },
        {
          "output_type": "stream",
          "text": [
            "2\n"
          ],
          "name": "stdout"
        },
        {
          "output_type": "display_data",
          "data": {
            "text/plain": [
              "<IPython.core.display.HTML object>"
            ],
            "text/html": [
              "<div id=\"id_273\"> </div>"
            ]
          },
          "metadata": {
            "tags": []
          }
        },
        {
          "output_type": "stream",
          "text": [
            "3\n"
          ],
          "name": "stdout"
        },
        {
          "output_type": "display_data",
          "data": {
            "text/plain": [
              "<IPython.core.display.HTML object>"
            ],
            "text/html": [
              "<div id=\"id_274\"> </div>"
            ]
          },
          "metadata": {
            "tags": []
          }
        },
        {
          "output_type": "stream",
          "text": [
            "4\n"
          ],
          "name": "stdout"
        },
        {
          "output_type": "display_data",
          "data": {
            "text/plain": [
              "<IPython.core.display.HTML object>"
            ],
            "text/html": [
              "<div id=\"id_275\"> </div>"
            ]
          },
          "metadata": {
            "tags": []
          }
        },
        {
          "output_type": "stream",
          "text": [
            "5\n"
          ],
          "name": "stdout"
        },
        {
          "output_type": "display_data",
          "data": {
            "text/plain": [
              "<IPython.core.display.HTML object>"
            ],
            "text/html": [
              "<div id=\"id_276\"> </div>"
            ]
          },
          "metadata": {
            "tags": []
          }
        },
        {
          "output_type": "stream",
          "text": [
            "6\n"
          ],
          "name": "stdout"
        },
        {
          "output_type": "display_data",
          "data": {
            "text/plain": [
              "<IPython.core.display.HTML object>"
            ],
            "text/html": [
              "<div id=\"id_277\"> </div>"
            ]
          },
          "metadata": {
            "tags": []
          }
        },
        {
          "output_type": "stream",
          "text": [
            "7\n"
          ],
          "name": "stdout"
        },
        {
          "output_type": "display_data",
          "data": {
            "text/plain": [
              "<IPython.core.display.HTML object>"
            ],
            "text/html": [
              "<div id=\"id_278\"> </div>"
            ]
          },
          "metadata": {
            "tags": []
          }
        },
        {
          "output_type": "stream",
          "text": [
            "8\n"
          ],
          "name": "stdout"
        },
        {
          "output_type": "display_data",
          "data": {
            "text/plain": [
              "<IPython.core.display.HTML object>"
            ],
            "text/html": [
              "<div id=\"id_279\"> </div>"
            ]
          },
          "metadata": {
            "tags": []
          }
        },
        {
          "output_type": "stream",
          "text": [
            "9\n"
          ],
          "name": "stdout"
        },
        {
          "output_type": "display_data",
          "data": {
            "text/plain": [
              "<IPython.core.display.HTML object>"
            ],
            "text/html": [
              "<div id=\"id_280\"> </div>"
            ]
          },
          "metadata": {
            "tags": []
          }
        }
      ]
    },
    {
      "metadata": {
        "id": "sjl-DGzBtBXk",
        "colab_type": "text"
      },
      "cell_type": "markdown",
      "source": [
        "If at any stage you'd like to seperately store a sample in memory, run the next cell with the index of the desired sample. Else, do not run, skip. "
      ]
    },
    {
      "metadata": {
        "id": "-ikTMNH1si5c",
        "colab_type": "text"
      },
      "cell_type": "markdown",
      "source": [
        "Replace the elements in list selected with the actual indices of the samples you wish to keep and run the next cell, after which, re-run the previous cell."
      ]
    },
    {
      "metadata": {
        "id": "Fwtf37qcAcnv",
        "colab_type": "code",
        "colab": {
          "autoexec": {
            "startup": false,
            "wait_interval": 0
          }
        }
      },
      "cell_type": "code",
      "source": [
        "best_yet = z[0] #insert the index of the best so far\n",
        "play(best_yet)"
      ],
      "execution_count": 0,
      "outputs": []
    },
    {
      "metadata": {
        "id": "06RA_TfBh5g3",
        "colab_type": "code",
        "colab": {
          "autoexec": {
            "startup": false,
            "wait_interval": 0
          }
        }
      },
      "cell_type": "code",
      "source": [
        "list_selected = [1, 6]\n",
        "z = evolve(z, list_selected, 0.2, shuffle=True)"
      ],
      "execution_count": 0,
      "outputs": []
    }
  ]
}